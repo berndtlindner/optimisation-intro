{
 "cells": [
  {
   "cell_type": "markdown",
   "metadata": {
    "slideshow": {
     "slide_type": "slide"
    }
   },
   "source": [
    "# Optimisation introduction\n",
    "Crash course introduction to the field of optimisation and related fields."
   ]
  },
  {
   "cell_type": "markdown",
   "metadata": {
    "slideshow": {
     "slide_type": "subslide"
    }
   },
   "source": [
    "# Background\n",
    "A few colleagues were interested in  \n",
    "further knowledge of optimisation (objective functions, constraints, etc.)  \n",
    "and metaheurstics such as genetic algorithms"
   ]
  },
  {
   "cell_type": "markdown",
   "metadata": {
    "slideshow": {
     "slide_type": "slide"
    }
   },
   "source": [
    "## Outline\n",
    "Use basic intro and some theory  \n",
    "Some examples/tutorials in python/R  \n",
    "- The analytics landscape\n",
    "    - Desciptive - Predictive - Prescriptive\n",
    "- Linear/non-linear formulations of single-objective\n",
    "  - Mathematical prog techniques (linear programming, etc.)\n",
    "- Explosion of combinatorial optimisation\n",
    "- Metaheuristics\n",
    "  - Genetic algorithm\n",
    "- Multi-objective optimisation"
   ]
  },
  {
   "cell_type": "markdown",
   "metadata": {
    "slideshow": {
     "slide_type": "slide"
    }
   },
   "source": [
    "# The analytis landscape"
   ]
  },
  {
   "cell_type": "markdown",
   "metadata": {
    "slideshow": {
     "slide_type": "subslide"
    }
   },
   "source": [
    "<center>\n",
    "    <img src=\"img/analytics_landscape.gif\" width=900 height=900/>\n",
    "<center>\n",
    "    \n",
    "\\[[Mathworks](https://www.mathworks.com/content/dam/mathworks/mathworks-dot-com/company/events/conferences/matlab-computational-finance-conference-nyc/2015/proceedings/predictive-modeling-techniques-insurance.pdf)]"
   ]
  },
  {
   "cell_type": "markdown",
   "metadata": {
    "slideshow": {
     "slide_type": "subslide"
    }
   },
   "source": [
    "<center>\n",
    "    <img src=\"img/analytics_landscape_2.jpeg\" width=1000 height=1000/>\n",
    "<center>\n",
    "\n",
    "\n",
    "\\[[competitive-advantage-with-optimization](https://www.slideshare.net/AnwarAliMohamed/competitive-advantage-with-optimization-mii), \n",
    "[Business Analytics and Performance Management](https://pure.au.dk/portal/files/113728189/Working_paper_BA_and_Man_Acc_Final_2017.pdf)]"
   ]
  },
  {
   "cell_type": "markdown",
   "metadata": {
    "slideshow": {
     "slide_type": "subslide"
    }
   },
   "source": [
    "<center>\n",
    "    <img src=\"img/analytics_maturity.png\" alt=\"drawing\" width=1000 height=1000/>\n",
    "<center>\n"
   ]
  },
  {
   "cell_type": "markdown",
   "metadata": {
    "slideshow": {
     "slide_type": "subslide"
    }
   },
   "source": [
    "### Machine learning and optimisation\n",
    "\\[[IBM: Machine Learning As Prescriptive Analytics](https://www.ibm.com/developerworks/community/blogs/jfp/entry/Machine_Learning_As_Prescriptive_Analytics?lang=en)]\n",
    "\n",
    "> One thing we did in the past was to use CPLEX quadratic solver to compute support vector machines.  When we did it we blew away all approaches coming from machine learning as CPLEX was several orders of magnitude faster.  It supports the claim by John Mount that lots of machine learning work does not leverage state of the art optimization techniques.  I'd be interested in revisiting the SVM topic now, given both sides (optimization and machine learning) have made significant progress, and given problem sizes have increased significantly.  \n",
    "\\[[IBM: Machine Learning and Optimization](https://www.ibm.com/developerworks/community/blogs/jfp/entry/machine_learning_and_optimization1?lang=en)]\n"
   ]
  },
  {
   "cell_type": "markdown",
   "metadata": {
    "slideshow": {
     "slide_type": "slide"
    }
   },
   "source": [
    "### Linear programming"
   ]
  },
  {
   "cell_type": "markdown",
   "metadata": {
    "cell_style": "center",
    "slideshow": {
     "slide_type": "slide"
    }
   },
   "source": [
    "A linear programming problem (LP) is an optimization problem for which we do the following:  \n",
    "1. We attempt to maximize (or minimize) a linear function of the decision variables. The function that is to be maximized or minimized is called the objective function.\n",
    "2. The values of the decision variables must satisfy a set of constraints. Each constraint must be a linear equation or linear inequality. \n",
    "3. A sign restriction is associated with each variable. For any variable xi, the sign restriction  specifies that xi must be either nonnegative (xi 0) or unrestricted in sign (urs). \n",
    "\n",
    "\\[[Operations research textbook by Winston, pg. 53](https://itslearningakarmazyan.files.wordpress.com/2015/09/operation-research-aplications-and-algorithms.pdf)]"
   ]
  },
  {
   "cell_type": "markdown",
   "metadata": {
    "cell_style": "split",
    "slideshow": {
     "slide_type": "slide"
    }
   },
   "source": [
    "Maximize  \n",
    "<span style=\"color:red\">  $f(x) = 5x_1 + 3x_2$ </span>   \n",
    "Subject to  \n",
    "<span style=\"color:green\"> $2x_1+ x_2 ≤ 40$ </span>  \n",
    "<span style=\"color:blue\">  $x_1 + 2x_2 ≤ 50$ </span>  \n",
    "$x_1, x_2 ≥ 0$   \n",
    "\n",
    "\\[[Deterministic Modeling:Linear Optimization with Applications](http://home.ubalt.edu/ntsbarsh/opre640a/partVIII.htm)]"
   ]
  },
  {
   "cell_type": "markdown",
   "metadata": {
    "cell_style": "split",
    "slideshow": {
     "slide_type": "fragment"
    }
   },
   "source": [
    "<center>\n",
    "    <img src=\"img/carpenter.gif\" alt=\"drawing\" width=700 height=700/>\n",
    "<center>"
   ]
  },
  {
   "cell_type": "markdown",
   "metadata": {
    "cell_style": "split",
    "slideshow": {
     "slide_type": "slide"
    }
   },
   "source": [
    "<center>\n",
    "    <img src=\"img/good-will-hunting-oral-history-2.jpg\" alt=\"drawing\" width=1000 height=1000/>\n",
    "<center>"
   ]
  },
  {
   "cell_type": "markdown",
   "metadata": {
    "cell_style": "split",
    "slideshow": {
     "slide_type": "fragment"
    }
   },
   "source": [
    "<center>\n",
    "    <img src=\"img/dantzig.jpeg\" alt=\"drawing\" width=500 height=500/>\n",
    "<center>"
   ]
  },
  {
   "cell_type": "markdown",
   "metadata": {
    "slideshow": {
     "slide_type": "subslide"
    }
   },
   "source": [
    "It happened because during my first year at Berkeley I arrived late one\n",
    " day at one of Neyman's classes. On the blackboard there were two problems that I\n",
    " assumed had been assigned for homework. I copied them down. A few days later I\n",
    " apologized to Neyman for taking so long to do the homework?the problems\n",
    " seemed to be a little harder to do than usual. I asked him if he still wanted it. He\n",
    " told me to throw it on his desk. I did so reluctantly because his desk was covered\n",
    " with such a heap of papers that I feared my homework would be lost there forever.\n",
    " About six weeks later, one Sunday morning about eight o'clock, Anne and I were\n",
    " awakened by someone banging on our front door. It was Neyman. He rushed in\n",
    " with papers in hand, all excited: \"I've just written an introduction to one of your\n",
    " papers. Read it so I can send it out right away for publication.\" For a minute I had\n",
    " no idea what he was talking about. To make a long story short, the problems on the\n",
    " blackboard that I had solved thinking they were homework were in fact two famous\n",
    " unsolved problems in statistics. That was the first inkling I had that there was\n",
    " anything special about them.\n",
    " \n",
    " \\[[Dantzig Interview](http://www.pucrs.br/ciencias/viali/graduacao/po_2/material/textos/2686279.pdf),\n",
    " [Dantzig real Will Hunting](https://bigthink.com/culture-religion/george-dantzig-real-will-hunting)\n",
    " ]"
   ]
  },
  {
   "cell_type": "code",
   "execution_count": null,
   "metadata": {
    "cell_style": "center",
    "slideshow": {
     "slide_type": "slide"
    }
   },
   "outputs": [],
   "source": [
    "# Maximize f(x) = 5x1 + 3x2\n",
    "# Subject to:\n",
    "# 2x1+ x2 ≤ 40\n",
    "# x1 + 2x2 ≤ 50\n",
    "# x1, x2 ≥ 0 \n",
    "from pulp import  *\n",
    "# Create the 'prob' variable to contain the problem data\n",
    "prob = LpProblem(\"The Product maximization\", LpMinimize)\n",
    "# Create problem variables\n",
    "x1=LpVariable(\"x_1\",lowBound = -1)\n",
    "x2=LpVariable(\"x_2\",lowBound = -1)\n",
    "# The objective function is added to 'prob' first\n",
    "prob += 5*x1 + 3*x2, \"Profit to be maximized\"\n",
    "# The two constraints are entered\n",
    "prob += 2*x1 + 1*x2 <= 60, \"Constraint 1\"\n",
    "prob += x1 + 2*x2 <= 50, \"Constraint 2\"\n",
    "# The problem data is written to an .lp file\n",
    "prob.writeLP(\"Productmax.lp\")\n",
    "# The problem is solved using PuLP's choice of Solver\n",
    "print(prob.solve())\n",
    "# The status of the solution is printed to the screen\n",
    "print(\"Status:\", LpStatus[prob.status])\n",
    "# Each of the variables is printed with it's resolved optimum value\n",
    "for v in prob.variables():\n",
    "    print(v.name, \"=\", v.varValue)\n",
    "# The optimised objective function value is printed to the screen\n",
    "print(\"Objective funtion\", value(prob.objective))"
   ]
  },
  {
   "cell_type": "markdown",
   "metadata": {
    "slideshow": {
     "slide_type": "slide"
    }
   },
   "source": [
    "### Transportation problem"
   ]
  },
  {
   "cell_type": "markdown",
   "metadata": {
    "cell_style": "split",
    "slideshow": {
     "slide_type": "subslide"
    }
   },
   "source": [
    "Truckloads of beer are to be shipped from two plants to five customers during a particular period of time. Both the available supply at each plant and the required demand by each customer (measured in terms of truckloads) are known. The cost associated with moving one truck load from a plant to a customer is also provided. The objective is to make a least-cost plan for moving the beer such that the demand is met and shipments do not exceed the available supply from each brewery.\n",
    "The following table provides the data for the problem described in the previous Data overview paragraph.\n",
    "\n",
    "\\[[AIMMS: Tutorial_beginner](https://download.aimms.com/aimms/download/references/AIMMS_tutorial_beginner.pdf)]"
   ]
  },
  {
   "cell_type": "markdown",
   "metadata": {
    "cell_style": "split",
    "slideshow": {
     "slide_type": "fragment"
    }
   },
   "source": [
    "<center>\n",
    "    <img src=\"img/aimms_tutorial_beer.png\" alt=\"drawing\" width=900 height=900/>\n",
    "<center>"
   ]
  },
  {
   "cell_type": "markdown",
   "metadata": {
    "slideshow": {
     "slide_type": "slide"
    }
   },
   "source": [
    "<center>\n",
    "    <img src=\"img/aimms_beginners_beer_formulation.png\" alt=\"drawing\" width=800 height=800/>\n",
    "<center>"
   ]
  },
  {
   "cell_type": "markdown",
   "metadata": {
    "slideshow": {
     "slide_type": "subslide"
    }
   },
   "source": [
    "_Unit Transport Cost ($ U_{pc} $)_\n",
    "\n",
    "|           | Amsterdam | Breda | Gouda | Amersfoort | Den Bosch |   | Supply |\n",
    "|-----------|-----------|-------|-------|------------|-----------|---|--------|\n",
    "| Haarlem   | _131_     | _405_   | _188_   | _396_        | _485_       |   | 47     |\n",
    "| Eindhoven | _554_       | _351_   | _479_   | _366_        | _155_       |   | 63    |\n",
    "|           |           |       |       |            |           |   |        |\n",
    "| Demand    | 28       | 16    | 22    | 41         | 12       |   |        |\n",
    "\n",
    "<center>\n",
    "    <img src=\"img/aimms_tutorial_beer.png\" alt=\"drawing\" width=700 height=700/>\n",
    "<center>"
   ]
  },
  {
   "cell_type": "code",
   "execution_count": null,
   "metadata": {
    "code_folding": [
     19
    ],
    "slideshow": {
     "slide_type": "slide"
    }
   },
   "outputs": [],
   "source": [
    "### Beer example\n",
    "### https://www.coin-or.org/PuLP/CaseStudies/a_transportation_problem.html\n",
    "### adapted for https://download.aimms.com/aimms/download/references/AIMMS_tutorial_beginner.pdf\n",
    "from pulp import *\n",
    "# Creates a list of all the supply nodes\n",
    "Warehouses = [\"A\",\"B\"]\n",
    "# Creates a dictionary for the number of units of supply for each supply node\n",
    "supply = {\"A\": 47,\n",
    "        \"B\": 63}\n",
    "# Creates a list of all demand nodes\n",
    "Bars = [\"1\", \"2\", \"3\", \"4\", \"5\"]\n",
    "# Creates a dictionary for the number of units of demand for each demand node\n",
    "demand = {\"1\": 28,\n",
    "        \"2\": 16,\n",
    "        \"3\": 22,\n",
    "        \"4\": 31,\n",
    "        \"5\": 12}\n",
    "# Creates a list of costs of each transportation path\n",
    "# https://stackoverflow.com/questions/7728313/python-pulp-using-with-matrices\n",
    "costs = { \"A\" : {\"1\" : 131, \"2\" : 405, \"3\" : 188, \"4\" : 396, \"5\" : 485},\n",
    "          \"B\" : {\"1\" : 554, \"2\" : 351, \"3\" : 479, \"4\" : 366, \"5\" : 155.5 }}\n",
    "# Creates the prob variable to contain the problem data\n",
    "prob = LpProblem(\"Beer Distribution Problem\",LpMinimize)\n",
    "# Creates a list of tuples containing all the possible routes for transport\n",
    "Routes = [(w,b) for w in Warehouses for b in Bars]\n",
    "# A dictionary called route_vars is created to contain the referenced variables (the routes)\n",
    "route_vars = LpVariable.dicts(\"Route\",(Warehouses,Bars),0,None,LpContinuous)\n",
    "# The objective function is added to prob first\n",
    "prob += lpSum([route_vars[w][b]*costs[w][b] for (w,b) in Routes]), \"Sum of Transporting Costs\"\n",
    "# The supply maximum constraints are added to prob for each supply node (warehouse)\n",
    "for w in Warehouses:\n",
    "    prob += lpSum([route_vars[w][b] for b in Bars]) <= supply[w], \"Sum of Products out of Warehouse %s\"%w\n",
    "# The demand minimum constraints are added to prob for each demand node (bar)\n",
    "for b in Bars:\n",
    "    prob += lpSum([route_vars[w][b] for w in Warehouses]) >= demand[b], \"Sum of Products into Bars %s\"%b\n",
    "prob.writeLP(\"Beer_problem.lp\")"
   ]
  },
  {
   "cell_type": "code",
   "execution_count": null,
   "metadata": {
    "scrolled": true,
    "slideshow": {
     "slide_type": "subslide"
    }
   },
   "outputs": [],
   "source": [
    "# The problem is solved using PuLP's choice of Solver\n",
    "print(prob.solve())\n",
    "\n",
    "# The status of the solution is printed to the screen\n",
    "print(\"Status:\", LpStatus[prob.status])\n",
    "# Each of the variables is printed with it's resolved optimum value\n",
    "for v in prob.variables():\n",
    "    print(v.name, \"=\", v.varValue)\n",
    "# The optimised objective function value is printed to the screen\n",
    "print(\"Objective funtion\", value(prob.objective))\n",
    "\n",
    "# 1\n",
    "# Status: Optimal\n",
    "# Route_A_1 = 28.0\n",
    "# Route_A_2 = 0.0\n",
    "# Route_A_3 = 19.0\n",
    "# Route_A_4 = 0.0\n",
    "# Route_A_5 = 0.0\n",
    "# Route_B_1 = 0.0\n",
    "# Route_B_2 = 16.0\n",
    "# Route_B_3 = 3.0\n",
    "# Route_B_4 = 31.0\n",
    "# Route_B_5 = 12.0\n",
    "# Objective funtion 27499.0"
   ]
  },
  {
   "cell_type": "code",
   "execution_count": null,
   "metadata": {
    "slideshow": {
     "slide_type": "subslide"
    }
   },
   "outputs": [],
   "source": [
    "### Using R \n",
    "%load_ext rpy2.ipython"
   ]
  },
  {
   "cell_type": "code",
   "execution_count": null,
   "metadata": {
    "slideshow": {
     "slide_type": "subslide"
    }
   },
   "outputs": [],
   "source": [
    "# https://stackoverflow.com/questions/39008069/r-and-python-in-one-jupyter-notebook\n",
    "%%R -i df -w 5 -h 5 --units in -r 200\n",
    "# import df from global environment\n",
    "# make default figure size 5 by 5 inches with 200 dpi resolution\n",
    "\n",
    "#script adapted from \n",
    "#http://www.r-bloggers.com/linear-programming-in-r-an-lpsolveapi-example/\n",
    "\n",
    "#Clear all data from memory\n",
    "rm(list=ls(all=TRUE))\n",
    "\n",
    "#set working directory,\n",
    "# setwd(\"Dropbox/Solvers_Tutorial/OR_345_Solver_Tutorial_2016\")\n",
    "\n",
    "#run installed package\n",
    "library(lpSolveAPI)\n",
    "\n",
    "#if you have not installed the package yet (do so): \n",
    "#install.packages(\"lpSolveAPI\")\n",
    "\n",
    "#define the datasets (if you want (especially with large datasets) can rather read in values via \"read.csv\" command )\n",
    "\n",
    "UnitTransport<-data.frame(variables=c('Haa_Ams','Haa_Bre','Haa_Gou', 'Haa_Ame', 'Haa-Den', 'Ein_Ams', 'Ein_Bre', 'Ein_Gou', 'Ein_Ame', 'Ein_Den'), UnitTransportCost=c(131,405,188, 396, 485, 554, 351, 479, 366, 155))\n",
    "\n",
    "SupplyConstraint<-data.frame(Plants=c('Haa','Ein'), MaxSupply=c(47,63))\n",
    "DemandConstraint<-data.frame(Customers=c('Ams','Breda', 'Gouda', 'Amersfoot', 'Den'), Demand=c(28,16, 22, 31, 12))\n",
    "\n",
    "#create an LP model with 7 constraints and 10 decision variables\n",
    "\n",
    "lpmodel<-make.lp(NROW(SupplyConstraint)+NROW(DemandConstraint),nrow(UnitTransport))\n",
    "#check lpmodel (wrties .lp file in workind directory)\n",
    "lpmodel\n",
    "\n",
    "###create Supply constraints (rows 1-2)\n",
    "# create coefficients per decision variables\n",
    "set.row(lpmodel, 1, rep(1,5), 1:5)\n",
    "set.row(lpmodel, 2, rep(1,5), 1:5)\n",
    "#automatically <=0\n",
    "set.constr.value(lpmodel, rhs=SupplyConstraint$MaxSupply, constraints=1:2)\n",
    "\n",
    "#create Demand constraints (rows 3-7) (now using for loop for ease)\n",
    "for (i in 1:nrow(DemandConstraint)){\n",
    "set.row(lpmodel, 2+i, rep(1,2), c(i,i+5)) #offset of 5 (e.g. 1st and 6th decision variable in UnitTransport)\n",
    "}\n",
    "set.constr.value(lpmodel, rhs=DemandConstraint$Demand, constraints=3:7)\n",
    "#automatically <=0, change to >=0\n",
    "set.constr.type(lpmodel, rep(\">=\", nrow(DemandConstraint)), constraints=3:7)\n",
    "\n",
    "#set decision varaibles to integer \n",
    "#set.type(lpmodel, 1:10,\"integer\")\n",
    "\n",
    "#set objective coefficients\n",
    "set.objfn(lpmodel, UnitTransport$UnitTransportCost)\n",
    "\n",
    "#set objective direction\n",
    "lp.control(lpmodel,sense='min')\n",
    "\n",
    "#I in order to be able to visually check the model, I find it useful to write the model to a text file\n",
    "write.lp(lpmodel,'model.lp',type='lp')\n",
    "\n",
    "#solve the model, if this return 0 an optimal solution is found\n",
    "solve(lpmodel)\n",
    "\n",
    "#return the proposed solution\n",
    "get.objective(lpmodel)\n",
    "\n",
    "#return the proposed varaibles\n",
    "get.variables(lpmodel)"
   ]
  },
  {
   "cell_type": "markdown",
   "metadata": {
    "slideshow": {
     "slide_type": "slide"
    }
   },
   "source": [
    "## Integer programming"
   ]
  },
  {
   "cell_type": "markdown",
   "metadata": {
    "slideshow": {
     "slide_type": "subslide"
    }
   },
   "source": [
    "<center>\n",
    "    <img src=\"img/integer_programming_winston.png\" alt=\"drawing\" width=1400 height=1400/>\n",
    "<center>\n",
    "\n",
    "\\[[Operations research textbook by Winston](https://itslearningakarmazyan.files.wordpress.com/2015/09/operation-research-aplications-and-algorithms.pdf)]"
   ]
  },
  {
   "cell_type": "markdown",
   "metadata": {
    "cell_style": "split",
    "slideshow": {
     "slide_type": "subslide"
    }
   },
   "source": [
    "<center>\n",
    "    <img src=\"img/integer_programming_winston_1.png\" alt=\"drawing\" width=1000 height=1000/>\n",
    "<center>\n",
    "\n",
    "\\[[Operations research textbook by Winston](https://itslearningakarmazyan.files.wordpress.com/2015/09/operation-research-aplications-and-algorithms.pdf)]"
   ]
  },
  {
   "cell_type": "markdown",
   "metadata": {
    "cell_style": "split",
    "slideshow": {
     "slide_type": "fragment"
    }
   },
   "source": [
    "<center>\n",
    "    <img src=\"img/integer_programming_winston_2.png\" alt=\"drawing\" width=1000 height=1000/>\n",
    "<center>\n",
    "\n",
    "\\[[Operations research textbook by Winston](https://itslearningakarmazyan.files.wordpress.com/2015/09/operation-research-aplications-and-algorithms.pdf)]"
   ]
  },
  {
   "cell_type": "markdown",
   "metadata": {
    "slideshow": {
     "slide_type": "subslide"
    }
   },
   "source": [
    "<center>\n",
    "    <img src=\"img/integer_programming_winston_3.png\" alt=\"drawing\" width=1000 height=1000/>\n",
    "<center>\n",
    "\n",
    "\\[[Operations research textbook by Winston](https://itslearningakarmazyan.files.wordpress.com/2015/09/operation-research-aplications-and-algorithms.pdf)]"
   ]
  },
  {
   "cell_type": "markdown",
   "metadata": {
    "slideshow": {
     "slide_type": "subslide"
    }
   },
   "source": [
    "The algorithm explores feasible branches of this tree, representing various disjoint subsets of the\n",
    "solution set. Before enumerating the candidate solutions of a branch, the quality of solutions\n",
    "of a branch is compared to upper and lower bounds on an optimal solution, and if it cannot\n",
    "produce a better solution than the best one found so far by the algorithm, the entire branch of\n",
    "the search tree is discarded. This method of pruning the search tree enables the algorithm not\n",
    "to enumerate all the possible branches (basically avoiding a brute-force enumeration), thereby\n",
    "eliminating the time and resources required to evaluate candidate solutions that will certainly\n",
    "not contain optimal solutions.\n",
    "For IP problems, the B&B method is initiated by solving the LP relaxation of the IP (i.e.\n",
    "allowing the decision variables to be non-integer values), typically via the simplex algorithm. If\n",
    "all the decision variables solved via the simplex algorithm assume integer values, then the optimal\n",
    "solution to the LP relaxation is also an optimal solution to the IP problem Winston2004 If,\n",
    "however, some of the decision variables are not integer, then those variables are branched upon\n",
    "by creating smaller subproblems in an attempt to nd optimal integer values for these decision\n",
    "variables. For MIP problems, only the variables that are required to be integers are branched\n",
    "upon Winston2004 | the other continuous decision variables are treated conventionally in the\n",
    "simplex algorithm.\n"
   ]
  },
  {
   "cell_type": "markdown",
   "metadata": {
    "slideshow": {
     "slide_type": "slide"
    }
   },
   "source": [
    "## Knapsack problem"
   ]
  },
  {
   "cell_type": "markdown",
   "metadata": {
    "cell_style": "split",
    "slideshow": {
     "slide_type": "fragment"
    }
   },
   "source": [
    "<center>\n",
    "<img src=\"img/knapsack.png\"  width=\"700\" height=\"700\"/>\n",
    "<center>"
   ]
  },
  {
   "cell_type": "markdown",
   "metadata": {
    "cell_style": "split",
    "slideshow": {
     "slide_type": "fragment"
    }
   },
   "source": [
    "- Combinatorial optimisation problem\n",
    "- Given a set of items, each with a weight and a value, determine the number of each item to include in a collection so that the total weight is less than or equal to a given limit and the total value is as large as possible. \n",
    "- Name: fixed-size knapsack and must fill it with the most valuable items.\n",
    "\n",
    "[Wikipedia](https://en.wikipedia.org/wiki/Knapsack_problem)"
   ]
  },
  {
   "cell_type": "code",
   "execution_count": null,
   "metadata": {
    "cell_style": "center",
    "slideshow": {
     "slide_type": "subslide"
    }
   },
   "outputs": [],
   "source": [
    "# https://towardsdatascience.com/integer-programming-in-python-1cbdfa240df2\n",
    "import cvxpy\n",
    "import numpy as np\n",
    "\n",
    "# The data for the Knapsack problem\n",
    "tot_weight = 165 # \"Capacity\" of sack\n",
    "weights = np.array([23, 31, 29, 44, 53, 38, 63, 85, 89, 82])\n",
    "utilities = np.array([92, 57, 49, 68, 60, 43, 67, 84, 87, 72])\n",
    "\n",
    "# The boolean variables we are solving for\n",
    "selection = cvxpy.Bool(len(weights))\n",
    "#selection = cvxpy.Variable(len(utilities), boolean=True)\n",
    "\n",
    "# The sum of the weights should be less than or equal to P\n",
    "weight_constraint = weights * selection <= tot_weight\n",
    "\n",
    "# Our total utility is the sum of the item utilities\n",
    "total_utility = utilities * selection\n",
    "\n",
    "# We tell cvxpy that we want to maximize total utility \n",
    "# subject to weight_constraint. All constraints in \n",
    "# cvxpy must be passed as a list\n",
    "knapsack_problem = cvxpy.Problem(cvxpy.Maximize(total_utility), [weight_constraint])\n",
    "\n",
    "# Solving the problem (choosing the GLPK Mixed Integer solver)\n",
    "print(\"Optimal (max) total_utility\")\n",
    "print(knapsack_problem.solve(solver=cvxpy.GLPK_MI))\n",
    "\n",
    "print(\"Optimal selections\")\n",
    "print(selection.value.T)"
   ]
  },
  {
   "cell_type": "markdown",
   "metadata": {
    "slideshow": {
     "slide_type": "slide"
    }
   },
   "source": [
    "# Combinatorial explosion"
   ]
  },
  {
   "cell_type": "markdown",
   "metadata": {
    "slideshow": {
     "slide_type": "subslide"
    }
   },
   "source": [
    "## Travelling Salesman problem"
   ]
  },
  {
   "cell_type": "markdown",
   "metadata": {
    "cell_style": "split",
    "slideshow": {
     "slide_type": "fragment"
    }
   },
   "source": [
    "<center>\n",
    "    <img src=\"img/tsp.svg\" width=2000 height=2000/>\n",
    "<center>"
   ]
  },
  {
   "cell_type": "markdown",
   "metadata": {
    "cell_style": "split",
    "slideshow": {
     "slide_type": "fragment"
    }
   },
   "source": [
    "<center>\n",
    "    <img src=\"img/tsp_map.png\" width=1000 height=1000/>\n",
    "<center>\n",
    "    \n",
    "\\[[Google OR routing](https://developers.google.com/optimization/routing/tsp)]"
   ]
  },
  {
   "cell_type": "markdown",
   "metadata": {
    "slideshow": {
     "slide_type": "subslide"
    }
   },
   "source": [
    "No simple mathematical formula to find the most efficient route for our salesman.  \n",
    "Instead, the only way to solve the problem is to calculate the length of each route and see which one is the shortest.\n",
    "\n",
    "What’s worse, performing this calculation gets exponentially harder the more cities are added to the route. With four cities, there are only three different routes to consider. But with six cities, there are 360 different routes that need to be calculated. If you’ve got a route with ten or more cities the number of possible routes is in the millions. \n",
    "\n",
    "\n",
    "This makes the traveling salesman problem one of a broad class of problems computer scientists call ‘NP hard.’ These are problems that get exponentially difficult very quickly, which also includes problems related to hacking encrypted systems and cryptocurrency mining. For pretty obvious reasons, a lot of people are interested in finding ways to solve these problems as quickly as possible.\n"
   ]
  },
  {
   "cell_type": "markdown",
   "metadata": {
    "slideshow": {
     "slide_type": "subslide"
    }
   },
   "source": [
    "The number of possible paths to consider is given by (N-1)!/2. The exhaustive search for the shortest tour becomes very quickly impossible to conduct.  \n",
    "\n",
    "Why? Because, assuming that your computer can evaluate the length of a billion tours per second, calculations would last 40 years in the case of twenty cities and would jump to 800 years if you added one city to the tour [1]. \n",
    "\n",
    "These numbers give meaning to the expression \"combinatorial explosion\". Consequently, we must settle for an approximate solutions, provided we can compute them efficiently\n",
    "\n",
    "\\[[maplesoft TSP](https://www.maplesoft.com/applications/view.aspx?SID=6873)]"
   ]
  },
  {
   "cell_type": "markdown",
   "metadata": {
    "slideshow": {
     "slide_type": "subslide"
    }
   },
   "source": [
    "This leads us to the big question: are there any polynomial-time algorithms for problems in the NP class that simply haven't been discovered yet?  \n",
    "The question is known as the P versus NP problem because the class of problems that can be solved in polynomial time is called P.   \n",
    "P versus NP is one of the hardest open problems in maths. Anyone who manages to answer it will win $1 million from the Clay Mathematics Institute (see [How maths can make you rich and famous](https://plus.maths.org/content/how-maths-can-make-you-rich-and-famous#np)).   \n",
    "Not everyone agrees, but most mathematicians seem to think that P is not equal to NP: this would mean that NP problems really are very difficult, they cannot be solved in polynomial time.\n",
    "\n",
    "\\[[plus maths TSP](https://plus.maths.org/content/travelling-salesman)]"
   ]
  },
  {
   "cell_type": "markdown",
   "metadata": {
    "slideshow": {
     "slide_type": "subslide"
    }
   },
   "source": [
    "The P versus NP problem is a major unsolved problem in computer science. It asks whether every problem whose solution can be quickly verified (technically, verified in polynomial time) can also be solved quickly (again, in polynomial time).\n",
    "It is one of the seven Millennium Prize Problems selected by the Clay Mathematics Institute, each of which carries a US$1,000,000 prize for the first correct solution.\n"
   ]
  },
  {
   "cell_type": "markdown",
   "metadata": {
    "slideshow": {
     "slide_type": "slide"
    }
   },
   "source": [
    "## God's number"
   ]
  },
  {
   "cell_type": "markdown",
   "metadata": {
    "slideshow": {
     "slide_type": "fragment"
    }
   },
   "source": [
    "<center>\n",
    "<img src=\"img/runiks_cube.png\"  width=\"200\" height=\"200\"/>\n",
    "<center>"
   ]
  },
  {
   "cell_type": "markdown",
   "metadata": {
    "slideshow": {
     "slide_type": "fragment"
    }
   },
   "source": [
    "Mathematicians love the Rubik’s Cube. There’s no denying it. They are amazed at how such a seemingly simply puzzle can hold so many secrets. There is always something new to learn about the cube (if you are willing to learn, of course). Perhaps the biggest secret of all, one that took over 30 years for mathematicians to crack is God’s Number."
   ]
  },
  {
   "cell_type": "markdown",
   "metadata": {
    "slideshow": {
     "slide_type": "slide"
    }
   },
   "source": [
    "God’s Number, as many cube enthusiasts will already know, is the maximum number of moves required to solve any of the 43,252,003,274,489,856,000 combinations of the cube. \n",
    "\n",
    "It has been proven that this number is 20 (cube20.org), however the discovery is fairly recent (July 2010). \n",
    "\n",
    "The term “God’s Number” was coined because the mind of a being able to find the shortest sequence of moves to solve any scramble sequence would have to be thousands of times more powerful than our own, able to test millions of different combinations in the blink of an eye, something that mathematicians believe only a Deity could possess."
   ]
  },
  {
   "cell_type": "markdown",
   "metadata": {
    "slideshow": {
     "slide_type": "subslide"
    }
   },
   "source": [
    "This number may seem low, but theoretically it should be even lower. Only around 490,000,000 combinations require the full 20 moves to be solved. Although 490 million is a huge number, it is only a fraction of the 43 quintillion possible combinations (0.0000011328955% to be precise). The chances of generating a random scramble that can only be solved in 20 moves, no more no less, is around 1 in a billion. However, the number of combinations that can be solved in 19 moves is approximately 1.5 quintillion. This means that God’s Number is much closer to 19 than 20, but unfortunately even if only 1 scramble sequence was impossible to solve in less than 20 moves, God’s Number would still be 20."
   ]
  },
  {
   "cell_type": "markdown",
   "metadata": {
    "slideshow": {
     "slide_type": "slide"
    }
   },
   "source": [
    "# Metaheuristics"
   ]
  },
  {
   "cell_type": "markdown",
   "metadata": {
    "slideshow": {
     "slide_type": "fragment"
    }
   },
   "source": [
    "In computer science and mathematical optimization, a metaheuristic is a higher-level procedure or heuristic designed to find, generate, or select a heuristic (partial search algorithm) that may provide a sufficiently good solution to an optimization problem, especially with incomplete or imperfect information or limited computation capacity.\n",
    "\n",
    "\\[[Wikipedia](https://en.wikipedia.org/wiki/Metaheuristic)]"
   ]
  },
  {
   "cell_type": "markdown",
   "metadata": {
    "slideshow": {
     "slide_type": "slide"
    }
   },
   "source": [
    "### Genetic algorithm"
   ]
  },
  {
   "cell_type": "markdown",
   "metadata": {
    "cell_style": "split",
    "slideshow": {
     "slide_type": "fragment"
    }
   },
   "source": [
    "<center>\n",
    "<img src=\"img/genetic_algorithm.png\"  width=\"800\" height=\"800\"/>\n",
    "<center>\n",
    "    \n",
    "\\[[GA_intro](https://www.analyticsvidhya.com/blog/2017/07/introduction-to-genetic-algorithm/)]"
   ]
  },
  {
   "cell_type": "markdown",
   "metadata": {
    "cell_style": "split",
    "slideshow": {
     "slide_type": "fragment"
    }
   },
   "source": [
    "<center>\n",
    "<img src=\"img/ga_steps.png\"  width=\"500\" height=\"500\"/>\n",
    "<center>"
   ]
  },
  {
   "cell_type": "markdown",
   "metadata": {
    "slideshow": {
     "slide_type": "slide"
    }
   },
   "source": [
    "Solve:  \n",
    "_min_ $f(x) = x^2$  \n",
    "With genetic algorithm"
   ]
  },
  {
   "cell_type": "markdown",
   "metadata": {
    "slideshow": {
     "slide_type": "fragment"
    }
   },
   "source": [
    "<center>\n",
    "<img src=\"img/genetic_algorithm_table_exaple.png\"  width=\"700\" height=\"700\"/>\n",
    "<center>\n",
    "    \n",
    "\\[[GA_Lecture](https://www.massey.ac.nz/~nhreyes/MASSEY/159741/Lectures/Lecture%20-%20Genetic%20Algorithm%20-%20Part%201.pdf)]"
   ]
  },
  {
   "cell_type": "code",
   "execution_count": null,
   "metadata": {
    "slideshow": {
     "slide_type": "slide"
    }
   },
   "outputs": [],
   "source": [
    "%matplotlib inline\n",
    "import time\n",
    "import random\n",
    "\n",
    "from deap import algorithms\n",
    "from deap import base\n",
    "from deap import creator\n",
    "from deap import tools\n",
    "from deap import benchmarks\n",
    "import numpy\n",
    "\n",
    "number_of_variables=1\n",
    "x_min= -50\n",
    "x_max = 50\n",
    "pop_size=20\n",
    "generations=2\n",
    "\n",
    "start_time=time.time()\n",
    "\n",
    "creator.create(\"FitnessMin\", base.Fitness, weights=(-1.0,))\n",
    "creator.create(\"Individual\",  list, fitness=creator.FitnessMin)\n",
    "\n",
    "toolbox = base.Toolbox()\n",
    "# Attribute generator\n",
    "toolbox.register(\"attr_float\", random.uniform, a=x_min, b=x_max)\n",
    "# Structure initializers\n",
    "toolbox.register(\"individual\", tools.initRepeat, creator.Individual, toolbox.attr_float, number_of_variables)\n",
    "toolbox.register(\"population\", tools.initRepeat, list, toolbox.individual)\n",
    "\n",
    "def objectiveFunction(individual):\n",
    "    return individual[0]**2,\n",
    "\n",
    "y_min= objectiveFunction([x_min])[0]\n",
    "y_max= objectiveFunction([x_max])[0]\n",
    "\n",
    "# Operator registering\n",
    "toolbox.register(\"evaluate\", objectiveFunction)\n",
    "toolbox.register(\"mate\", tools.cxUniform, indpb=0.05)\n",
    "toolbox.register(\"mutate\", tools.mutFlipBit, indpb=0.05)\n",
    "toolbox.register(\"select\", tools.selTournament, tournsize=3)\n",
    "\n",
    "if __name__ == \"__main__\":\n",
    "    random.seed(64)\n",
    "    \n",
    "    pop = toolbox.population(n=pop_size)\n",
    "    hof = tools.HallOfFame(1)\n",
    "    \n",
    "    stats_fit = tools.Statistics(lambda ind: ind.fitness.values)\n",
    "    stats_fit.register(\"avg\", numpy.mean)\n",
    "    stats_fit.register(\"std\", numpy.std)\n",
    "    stats_fit.register(\"min\", numpy.min)\n",
    "    stats_fit.register(\"max\", numpy.max)\n",
    "    stats_fit.register(\"all\", list)\n",
    "    \n",
    "    stats_ind = tools.Statistics(lambda ind: ind)\n",
    "    stats_ind.register(\"all\", list)\n",
    "    \n",
    "    mstats = tools.MultiStatistics(fitness=stats_fit, ind=stats_ind)\n",
    "                                            \n",
    "    pop, logbook = algorithms.eaSimple(\n",
    "        pop, toolbox, \n",
    "        cxpb=0.5, \n",
    "        mutpb=0.2, \n",
    "        ngen=generations,\n",
    "        stats=mstats, \n",
    "        halloffame=hof,\n",
    "        verbose=False\n",
    "    )\n",
    "\n",
    "end_time = time.time()\n",
    "solve_time = end_time - start_time\n",
    "#print(pop[1])\n",
    "print(\"Solve time is {}\".format(solve_time))"
   ]
  },
  {
   "cell_type": "code",
   "execution_count": null,
   "metadata": {
    "cell_style": "split",
    "hide_input": false,
    "slideshow": {
     "slide_type": "subslide"
    }
   },
   "outputs": [],
   "source": [
    "### Draw graph\n",
    "gen = logbook.select(\"gen\")\n",
    "fit_mins = logbook.chapters[\"fitness\"].select(\"min\")\n",
    "size_avgs = logbook.chapters[\"fitness\"].select(\"avg\")\n",
    "\n",
    "import matplotlib.pyplot as plt\n",
    "\n",
    "fig, ax1 = plt.subplots()\n",
    "line1 = ax1.plot(gen, fit_mins, \"b-\", label=\"Minimum Fitness\")\n",
    "ax1.set_xlabel(\"Generation\")\n",
    "ax1.set_ylabel(\"Pop. min. fitness\", color=\"b\")\n",
    "for tl in ax1.get_yticklabels():\n",
    "    tl.set_color(\"b\")\n",
    "\n",
    "ax2 = ax1.twinx()\n",
    "line2 = ax2.plot(gen, size_avgs, \"r-\", label=\"Average Fitness\")\n",
    "ax2.set_ylabel(\"Pop. avg. fitness\", color=\"r\")\n",
    "for tl in ax2.get_yticklabels():\n",
    "    tl.set_color(\"r\")\n",
    "\n",
    "lns = line1 + line2\n",
    "labs = [l.get_label() for l in lns]\n",
    "ax1.legend(lns, labs, loc=\"center right\")\n",
    "\n",
    "plt.show()\n",
    "\n",
    "### Show final population\n",
    "#pop"
   ]
  },
  {
   "cell_type": "code",
   "execution_count": null,
   "metadata": {
    "cell_style": "split",
    "hide_input": true,
    "slideshow": {
     "slide_type": "fragment"
    }
   },
   "outputs": [],
   "source": [
    "### Show animation\n",
    "# https://stackoverflow.com/questions/43445103/inline-animations-in-jupyter\n",
    "# from math import sin, cos, pi, exp, e, sqrt\n",
    "\n",
    "import matplotlib.pyplot as plt\n",
    "import matplotlib.animation\n",
    "import numpy as np\n",
    "from IPython.display import HTML\n",
    "\n",
    "# https://stackoverflow.com/questions/43074828/remove-precedent-scatterplot-while-updating-python-animation\n",
    "scats = []\n",
    "\n",
    "# First set up the figure, the axis, and the plot element we want to animate\n",
    "fig, ax = plt.subplots()\n",
    "\n",
    "ax.set_xlim(( x_min, x_max))\n",
    "ax.set_ylim(( -100, y_max))\n",
    "x = np.linspace(-50, 50, 100)\n",
    "y = x**2\n",
    "\n",
    "line, = ax.plot([], [], lw=2)\n",
    "line.set_data(x, y)\n",
    "\n",
    "\n",
    "def animate(i):\n",
    "    \n",
    "    ax.set_title(\"Generatiion: {} out of {}\".format(i+1, len(fit_mins)))\n",
    "\n",
    "    # https://stackoverflow.com/questions/43074828/remove-precedent-scatterplot-while-updating-python-animation\n",
    "    global scats\n",
    "        # first remove all old scatters\n",
    "    for scat in scats:\n",
    "        scat.remove()\n",
    "    scats=[]\n",
    "\n",
    "    x_all = logbook.chapters['ind'].select('all')[i]\n",
    "    y_all = logbook.chapters['fitness'].select('all')[i]\n",
    "    \n",
    "    y=fit_mins[i]\n",
    "    x=sqrt(y)\n",
    "    \n",
    "    scats.append(ax.scatter(x, y, lw=0.5, s=100, color='blue', alpha=0.7))\n",
    "    scats.append(ax.scatter(x_all, y_all, lw=0.5, s=100, color='black', alpha=0.3))\n",
    "\n",
    "\n",
    "ani = matplotlib.animation.FuncAnimation(fig, animate, frames=len(fit_mins), interval=1000)\n",
    "\n",
    "HTML(ani.to_jshtml())"
   ]
  },
  {
   "cell_type": "markdown",
   "metadata": {
    "slideshow": {
     "slide_type": "slide"
    }
   },
   "source": [
    "Hard problems\n",
    "\n",
    "[DEAP benchmark optimisation problems](https://deap.readthedocs.io/en/master/api/benchmarks.html)"
   ]
  },
  {
   "cell_type": "code",
   "execution_count": null,
   "metadata": {
    "slideshow": {
     "slide_type": "subslide"
    }
   },
   "outputs": [],
   "source": [
    "number_of_variables=1\n",
    "x_min= -5\n",
    "x_max = 5\n",
    "pop_size= 50\n",
    "generations= 10\n",
    "start_time=time.time()\n",
    "\n",
    "creator.create(\"FitnessMin\", base.Fitness, weights=(-1.0,))\n",
    "creator.create(\"Individual\",  list, fitness=creator.FitnessMin)\n",
    "\n",
    "toolbox = base.Toolbox()\n",
    "# Attribute generator\n",
    "toolbox.register(\"attr_float\", random.uniform, a=x_min, b=x_max)\n",
    "# Structure initializers\n",
    "toolbox.register(\"individual\", tools.initRepeat, creator.Individual, toolbox.attr_float, number_of_variables)\n",
    "toolbox.register(\"population\", tools.initRepeat, list, toolbox.individual)\n",
    "\n",
    "y_min= objectiveFunction([x_min])[0]\n",
    "y_max= objectiveFunction([x_max])[0]\n",
    "\n",
    "# Operator registering\n",
    "toolbox.register(\"evaluate\", benchmarks.rastrigin)\n",
    "toolbox.register(\"mate\", tools.cxUniform, indpb=0.05)\n",
    "toolbox.register(\"mutate\", tools.mutFlipBit, indpb=0.05)\n",
    "toolbox.register(\"select\", tools.selTournament, tournsize=3)\n",
    "\n",
    "if __name__ == \"__main__\":\n",
    "    random.seed(64)\n",
    "    \n",
    "    pop = toolbox.population(n=pop_size)\n",
    "    hof = tools.HallOfFame(1)\n",
    "    \n",
    "    stats_fit = tools.Statistics(lambda ind: ind.fitness.values)\n",
    "    stats_fit.register(\"avg\", numpy.mean)\n",
    "    stats_fit.register(\"std\", numpy.std)\n",
    "    stats_fit.register(\"min\", numpy.min)\n",
    "    stats_fit.register(\"max\", numpy.max)\n",
    "    stats_fit.register(\"all\", list)\n",
    "    \n",
    "    stats_ind = tools.Statistics(lambda ind: ind)\n",
    "    stats_ind.register(\"all\", list)\n",
    "    \n",
    "    mstats = tools.MultiStatistics(fitness=stats_fit, ind=stats_ind)\n",
    "\n",
    "    pop, logbook = algorithms.eaSimple(\n",
    "        pop, toolbox, \n",
    "        cxpb=0.5, \n",
    "        mutpb=0.2, \n",
    "        ngen=generations,\n",
    "        stats=mstats, \n",
    "        halloffame=hof,\n",
    "        verbose=False\n",
    "    )\n",
    "\n",
    "end_time = time.time()\n",
    "solve_time = end_time - start_time\n",
    "#print(pop[1])\n",
    "print(\"Solve time is {}\".format(solve_time))"
   ]
  },
  {
   "cell_type": "code",
   "execution_count": null,
   "metadata": {
    "cell_style": "split",
    "hide_input": false,
    "scrolled": true,
    "slideshow": {
     "slide_type": "subslide"
    }
   },
   "outputs": [],
   "source": [
    "### Draw graph\n",
    "gen = logbook.select(\"gen\")\n",
    "fit_mins = logbook.chapters[\"fitness\"].select(\"min\")\n",
    "size_avgs = logbook.chapters[\"fitness\"].select(\"avg\")\n",
    "\n",
    "import matplotlib.pyplot as plt\n",
    "\n",
    "fig, ax1 = plt.subplots()\n",
    "line1 = ax1.plot(gen, fit_mins, \"b-\", label=\"Minimum Fitness\")\n",
    "ax1.set_xlabel(\"Generation\")\n",
    "ax1.set_ylabel(\"Pop. min. fitness\", color=\"b\")\n",
    "for tl in ax1.get_yticklabels():\n",
    "    tl.set_color(\"b\")\n",
    "\n",
    "ax2 = ax1.twinx()\n",
    "line2 = ax2.plot(gen, size_avgs, \"r-\", label=\"Average Fitness\")\n",
    "ax2.set_ylabel(\"Pop. avg. fitness\", color=\"r\")\n",
    "for tl in ax2.get_yticklabels(): \n",
    "    tl.set_color(\"r\")\n",
    "\n",
    "lns = line1 + line2\n",
    "labs = [l.get_label() for l in lns]\n",
    "ax1.legend(lns, labs, loc=\"center right\") \n",
    "\n",
    "plt.show()"
   ]
  },
  {
   "cell_type": "code",
   "execution_count": null,
   "metadata": {
    "cell_style": "split",
    "hide_input": true,
    "scrolled": true,
    "slideshow": {
     "slide_type": "fragment"
    }
   },
   "outputs": [],
   "source": [
    "# https://stackoverflow.com/questions/43074828/remove-precedent-scatterplot-while-updating-python-animation\n",
    "scats = []\n",
    "\n",
    "# First set up the figure, the axis, and the plot element we want to animate\n",
    "fig, ax = plt.subplots()\n",
    "\n",
    "ax.set_xlim(( x_min, x_max))\n",
    "ax.set_ylim(( -10, y_max))\n",
    "x = np.linspace(x_min, x_max, 100)\n",
    "y = np.asarray([benchmarks.rastrigin([elem]) for elem in x])\n",
    "\n",
    "line, = ax.plot([], [], lw=2)\n",
    "line.set_data(x, y)\n",
    "\n",
    "def animate(i):\n",
    "    \n",
    "    ax.set_title(\"Generatiion: {} out of {}\".format(i+1, len(fit_mins)))\n",
    "\n",
    "    # https://stackoverflow.com/questions/43074828/remove-precedent-scatterplot-while-updating-python-animation\n",
    "    global scats\n",
    "        # first remove all old scatters\n",
    "    for scat in scats:\n",
    "        scat.remove()\n",
    "    scats=[]\n",
    "\n",
    "    x_all = logbook.chapters['ind'].select('all')[i]\n",
    "    y_all = logbook.chapters['fitness'].select('all')[i]\n",
    "    \n",
    "    y=fit_mins[i]\n",
    "    x=sqrt(y)\n",
    "    \n",
    "    scats.append(ax.scatter(x_all, y_all, lw=0.5, s=100, color='black', alpha=0.3))\n",
    "    scats.append(ax.scatter(x, y, lw=0.5, s=100, color='blue', alpha=0.7))\n",
    "\n",
    "ani = matplotlib.animation.FuncAnimation(fig, animate, frames=len(fit_mins), interval=1000)\n",
    "\n",
    "from IPython.display import HTML\n",
    "HTML(ani.to_jshtml())"
   ]
  },
  {
   "cell_type": "markdown",
   "metadata": {
    "slideshow": {
     "slide_type": "slide"
    }
   },
   "source": [
    "## Genetic algorithms applications"
   ]
  },
  {
   "cell_type": "markdown",
   "metadata": {
    "slideshow": {
     "slide_type": "fragment"
    }
   },
   "source": [
    "https://en.wikipedia.org/wiki/List_of_genetic_algorithm_applications  \n",
    "https://www.popularmechanics.com/science/math/a25686417/amoeba-math/  "
   ]
  },
  {
   "cell_type": "markdown",
   "metadata": {
    "slideshow": {
     "slide_type": "slide"
    }
   },
   "source": [
    "## Other metaheuristics"
   ]
  },
  {
   "cell_type": "markdown",
   "metadata": {
    "cell_style": "split",
    "slideshow": {
     "slide_type": "fragment"
    }
   },
   "source": [
    "There are two kinds of meta-heuristics:  \n",
    "a. population or  \n",
    "b. path  \n",
    "\n",
    "Most algorithms do not have a specific population, so it is possible to use the algorithm for a path or a population.\n",
    "\n",
    "\\[[SMART GRID](https://smart--grid.net/cours-lessons-theory/combinatorial-optimization/)]"
   ]
  },
  {
   "cell_type": "markdown",
   "metadata": {
    "cell_style": "split",
    "slideshow": {
     "slide_type": "fragment"
    }
   },
   "source": [
    "<center>\n",
    "<img src=\"img/metaheuristic_parcours-population.png\"  width=\"700\" height=\"700\"/>\n",
    "<center> "
   ]
  },
  {
   "cell_type": "markdown",
   "metadata": {
    "slideshow": {
     "slide_type": "subslide"
    }
   },
   "source": [
    "Bit out of hand  \n",
    "https://github.com/fcampelo/EC-Bestiary  \n",
    "http://oneweirdkerneltrick.com/spectral.pdf"
   ]
  },
  {
   "cell_type": "markdown",
   "metadata": {
    "slideshow": {
     "slide_type": "slide"
    }
   },
   "source": [
    "# Multi-objective optimisation"
   ]
  },
  {
   "cell_type": "markdown",
   "metadata": {
    "slideshow": {
     "slide_type": "slide"
    }
   },
   "source": [
    "<center>\n",
    "$f_1(x)=x_1$  ;   $f_2(x)=1+x_2^2-x_1-a\\sin(b\\pi x_1)$  \n",
    "<center>\n",
    "<center>\n",
    "min $F(x)=\\omega_1 f_1(x) + \\omega_2f_2(x)$ \n",
    "<center>"
   ]
  },
  {
   "cell_type": "markdown",
   "metadata": {
    "cell_style": "split",
    "slideshow": {
     "slide_type": "fragment"
    }
   },
   "source": [
    "Convex ($a=0.2$ ; $b=1$)  \n",
    "\n",
    "<center>\n",
    "<img src=\"img/convex_moo.gif\"  width=\"500\" height=\"500\"/>\n",
    "<center>\n",
    "    \n",
    "\\[[wikimedia](https://commons.wikimedia.org/wiki/File:Convex_outcome_set_of_a_multi-objective_optimization_problem.gif)]"
   ]
  },
  {
   "cell_type": "markdown",
   "metadata": {
    "cell_style": "split",
    "slideshow": {
     "slide_type": "fragment"
    }
   },
   "source": [
    "Non-convex  ($a=0.1$ ; $b=3$)  \n",
    "\n",
    "<center>\n",
    "<img src=\"img/nonconvex_moo.gif\"  width=\"500\" height=\"500\"/>\n",
    "<center>\n",
    "    \n",
    "\\[[wikimedia](https://commons.wikimedia.org/wiki/File:NonConvex.gif)]"
   ]
  },
  {
   "cell_type": "markdown",
   "metadata": {
    "slideshow": {
     "slide_type": "subslide"
    }
   },
   "source": [
    "<center>\n",
    "<img src=\"img/front_pareto.png\"  width=\"800\" height=\"800\"/>\n",
    "<center>"
   ]
  },
  {
   "cell_type": "markdown",
   "metadata": {
    "slideshow": {
     "slide_type": "slide"
    }
   },
   "source": [
    "### Optimisation techniques"
   ]
  },
  {
   "cell_type": "markdown",
   "metadata": {
    "slideshow": {
     "slide_type": "subslide"
    }
   },
   "source": [
    "<center>\n",
    "    <img src=\"img/optimisation_techniques.png\" width=1000 height=1000/>\n",
    "<center>\n",
    "    \n",
    "\\[[SMART GRID](https://smart--grid.net/cours-lessons-theory/combinatorial-optimization/)]"
   ]
  },
  {
   "cell_type": "markdown",
   "metadata": {
    "slideshow": {
     "slide_type": "subslide"
    }
   },
   "source": [
    "<center>\n",
    "    <img src=\"img/optimisation_techniques_2.png\" width=1000 height=1000/>\n",
    "<center>"
   ]
  },
  {
   "cell_type": "markdown",
   "metadata": {
    "slideshow": {
     "slide_type": "subslide"
    }
   },
   "source": [
    "<center>\n",
    "    <img src=\"img/optimisation_techniques_3.png\" width=1000 height=1000/>\n",
    "<center>"
   ]
  },
  {
   "cell_type": "markdown",
   "metadata": {
    "slideshow": {
     "slide_type": "subslide"
    }
   },
   "source": [
    "In computer science and operations research, exact algorithms are algorithms that always solve an optimization problem to optimality.  \n",
    "\\[[Wikipedia: Exact_algorithm](https://en.wikipedia.org/wiki/Exact_algorithm)]"
   ]
  }
 ],
 "metadata": {
  "celltoolbar": "Slideshow",
  "hide_input": false,
  "kernelspec": {
   "display_name": "Python 3",
   "language": "python",
   "name": "python3"
  },
  "language_info": {
   "codemirror_mode": {
    "name": "ipython",
    "version": 3
   },
   "file_extension": ".py",
   "mimetype": "text/x-python",
   "name": "python",
   "nbconvert_exporter": "python",
   "pygments_lexer": "ipython3",
   "version": "3.6.9"
  },
  "rise": {
   "theme": "serif"
  }
 },
 "nbformat": 4,
 "nbformat_minor": 2
}
