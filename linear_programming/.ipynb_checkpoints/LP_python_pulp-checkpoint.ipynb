{
 "cells": [
  {
   "cell_type": "code",
   "execution_count": 21,
   "metadata": {},
   "outputs": [
    {
     "name": "stdout",
     "output_type": "stream",
     "text": [
      "1\n",
      "Status: Optimal\n",
      "x_1 = 10.0\n",
      "x_2 = 20.0\n",
      "Objective funtion 110.0\n"
     ]
    }
   ],
   "source": [
    "### Baisc\n",
    "\n",
    "# Maximize f(x) = 5x1 + 3x2\n",
    "# Subject to:\n",
    "# 2x1+ x2 ≤ 40\n",
    "# x1 + 2x2 ≤ 50\n",
    "# x1, x2 ≥ 0 \n",
    "\n",
    "# import PuLP\n",
    "from pulp import *\n",
    "\n",
    "# Create the 'prob' variable to contain the problem data\n",
    "prob = LpProblem(\"The Product maximization\", LpMaximize)\n",
    "\n",
    "# Create problem variables\n",
    "x1=LpVariable(\"x_1\",lowBound = 0)\n",
    "x2=LpVariable(\"x_2\",lowBound = 0)\n",
    "\n",
    "# The objective function is added to 'prob' first\n",
    "prob += 5*x1 + 3*x2, \"Profit to be maximized\"\n",
    "# The two constraints are entered\n",
    "prob += 2*x1 + 1*x2 <= 40, \"Constraint 1\"\n",
    "prob += x1 + 2*x2 <= 50, \"Constraint 2\"\n",
    "\n",
    "# The problem data is written to an .lp file\n",
    "prob.writeLP(\"Productmax.lp\")\n",
    "\n",
    "# The problem is solved using PuLP's choice of Solver\n",
    "print(prob.solve())\n",
    "\n",
    "# The status of the solution is printed to the screen\n",
    "print(\"Status:\", LpStatus[prob.status])\n",
    "# Each of the variables is printed with it's resolved optimum value\n",
    "for v in prob.variables():\n",
    "    print(v.name, \"=\", v.varValue)\n",
    "# The optimised objective function value is printed to the screen\n",
    "print(\"Objective funtion\", value(prob.objective))"
   ]
  },
  {
   "cell_type": "code",
   "execution_count": 1,
   "metadata": {},
   "outputs": [],
   "source": [
    "### Beer example\n",
    "### https://www.coin-or.org/PuLP/CaseStudies/a_transportation_problem.html\n",
    "### adapted for https://download.aimms.com/aimms/download/references/AIMMS_tutorial_beginner.pdf\n",
    "\n",
    "from pulp import *\n",
    "\n",
    "# Creates a list of all the supply nodes\n",
    "Warehouses = [\"A\",\"B\"]\n",
    "\n",
    "# Creates a dictionary for the number of units of supply for each supply node\n",
    "supply = {\"A\": 47,\n",
    "        \"B\": 63}\n",
    "\n",
    "# Creates a list of all demand nodes\n",
    "Bars = [\"1\", \"2\", \"3\", \"4\", \"5\"]\n",
    "\n",
    "# Creates a dictionary for the number of units of demand for each demand node\n",
    "demand = {\"1\": 28,\n",
    "        \"2\": 16,\n",
    "        \"3\": 22,\n",
    "        \"4\": 31,\n",
    "        \"5\": 12}\n",
    "\n",
    "# Creates a list of costs of each transportation path\n",
    "# costs = [   #Bars\n",
    "#         #1 2 3 4 5\n",
    "#          [2,4,5,2,1],#A  Warehouses\n",
    "#         [3,1,3,2,3] #B\n",
    "#          ]\n",
    "# https://stackoverflow.com/questions/7728313/python-pulp-using-with-matrices\n",
    "costs = { \"A\" : {\"1\" : 131, \"2\" : 405, \"3\" : 188, \"4\" : 396, \"5\" : 485},\n",
    "          \"B\" : {\"1\" : 554, \"2\" : 351, \"3\" : 479, \"4\" : 366, \"5\" : 155 }}\n",
    "\n",
    "# Creates the prob variable to contain the problem data\n",
    "prob = LpProblem(\"Beer Distribution Problem\",LpMinimize)\n",
    "\n",
    "# Creates a list of tuples containing all the possible routes for transport\n",
    "Routes = [(w,b) for w in Warehouses for b in Bars]\n",
    "\n",
    "# A dictionary called route_vars is created to contain the referenced variables (the routes)\n",
    "route_vars = LpVariable.dicts(\"Route\",(Warehouses,Bars),0,None,LpInteger)\n",
    "\n",
    "# The objective function is added to prob first\n",
    "prob += lpSum([route_vars[w][b]*costs[w][b] for (w,b) in Routes]), \"Sum of Transporting Costs\"\n",
    "\n",
    "# The supply maximum constraints are added to prob for each supply node (warehouse)\n",
    "for w in Warehouses:\n",
    "    prob += lpSum([route_vars[w][b] for b in Bars]) <= supply[w], \"Sum of Products out of Warehouse %s\"%w\n",
    "\n",
    "# The demand minimum constraints are added to prob for each demand node (bar)\n",
    "for b in Bars:\n",
    "    prob += lpSum([route_vars[w][b] for w in Warehouses]) >= demand[b], \"Sum of Products into Bars %s\"%b\n",
    "    \n",
    "prob.writeLP(\"Beer_problem.lp\")"
   ]
  },
  {
   "cell_type": "code",
   "execution_count": 2,
   "metadata": {},
   "outputs": [
    {
     "name": "stdout",
     "output_type": "stream",
     "text": [
      "1\n",
      "Status: Optimal\n",
      "Route_A_1 = 28.0\n",
      "Route_A_2 = 0.0\n",
      "Route_A_3 = 19.0\n",
      "Route_A_4 = 0.0\n",
      "Route_A_5 = 0.0\n",
      "Route_B_1 = 0.0\n",
      "Route_B_2 = 16.0\n",
      "Route_B_3 = 3.0\n",
      "Route_B_4 = 31.0\n",
      "Route_B_5 = 12.0\n",
      "Objective funtion 27499.0\n"
     ]
    }
   ],
   "source": [
    "# The problem is solved using PuLP's choice of Solver\n",
    "print(prob.solve())\n",
    "\n",
    "# The status of the solution is printed to the screen\n",
    "print(\"Status:\", LpStatus[prob.status])\n",
    "# Each of the variables is printed with it's resolved optimum value\n",
    "for v in prob.variables():\n",
    "    print(v.name, \"=\", v.varValue)\n",
    "# The optimised objective function value is printed to the screen\n",
    "print(\"Objective funtion\", value(prob.objective))"
   ]
  },
  {
   "cell_type": "code",
   "execution_count": null,
   "metadata": {},
   "outputs": [],
   "source": []
  }
 ],
 "metadata": {
  "hide_input": false,
  "kernelspec": {
   "display_name": "Python 3",
   "language": "python",
   "name": "python3"
  },
  "language_info": {
   "codemirror_mode": {
    "name": "ipython",
    "version": 3
   },
   "file_extension": ".py",
   "mimetype": "text/x-python",
   "name": "python",
   "nbconvert_exporter": "python",
   "pygments_lexer": "ipython3",
   "version": "3.6.8"
  }
 },
 "nbformat": 4,
 "nbformat_minor": 2
}
